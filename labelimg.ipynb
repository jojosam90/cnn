{
  "cells": [
    {
      "cell_type": "markdown",
      "metadata": {
        "id": "view-in-github",
        "colab_type": "text"
      },
      "source": [
        "<a href=\"https://colab.research.google.com/github/jojosam90/cnn/blob/main/labelimg.ipynb\" target=\"_parent\"><img src=\"https://colab.research.google.com/assets/colab-badge.svg\" alt=\"Open In Colab\"/></a>"
      ]
    },
    {
      "cell_type": "code",
      "source": [
        "import cv2\n",
        "import numpy as np\n",
        "import matplotlib.pyplot as plt\n",
        "import imutils"
      ],
      "metadata": {
        "id": "h3mcC3u02m9O"
      },
      "execution_count": 8,
      "outputs": []
    },
    {
      "cell_type": "code",
      "source": [
        "img = cv2.imread(\"/content/bicycle.jpg\")\n",
        "img_gray = cv2.cvtColor(img, cv2.COLOR_BGR2GRAY)"
      ],
      "metadata": {
        "id": "mkHFHXO82yfu"
      },
      "execution_count": 10,
      "outputs": []
    },
    {
      "cell_type": "code",
      "source": [
        "ret, thresh = cv2.threshold(img_gray, 150, 255, cv2.THRESH_BINARY_INV)\n",
        "contours, hierarchy = cv2.findContours(image=thresh, mode=cv2.RETR_CCOMP, method=cv2.CHAIN_APPROX_NONE)                                    \n",
        "image_copy = img.copy()\n",
        "cv2.drawContours(image=image_copy, contours=contours, contourIdx=-1, color=(0, 255, 0), thickness=2, lineType=cv2.LINE_AA)\n",
        "contours = np.vstack(contours).squeeze()\n",
        "\n",
        "cv2.circle(img, (52,159), 8, (0, 0, 255), 100) \n",
        "\n",
        "#cv2.imshow('None approximation', image_copy)\n",
        "cv2.waitKey(0)\n",
        "cv2.destroyAllWindows()"
      ],
      "metadata": {
        "id": "jabJSLxx3C8r"
      },
      "execution_count": 12,
      "outputs": []
    },
    {
      "cell_type": "code",
      "source": [
        "contours.shape"
      ],
      "metadata": {
        "colab": {
          "base_uri": "https://localhost:8080/"
        },
        "id": "g4Gkr3zH3Ii3",
        "outputId": "c60703ef-6c20-4d3a-8278-f3c7b984383c"
      },
      "execution_count": 20,
      "outputs": [
        {
          "output_type": "execute_result",
          "data": {
            "text/plain": [
              "(3238, 2)"
            ]
          },
          "metadata": {},
          "execution_count": 20
        }
      ]
    },
    {
      "cell_type": "code",
      "source": [
        "contours"
      ],
      "metadata": {
        "colab": {
          "base_uri": "https://localhost:8080/"
        },
        "id": "zvq-vKkc5Ci-",
        "outputId": "047ca3c4-e4e1-4c28-e557-1a44b213a07e"
      },
      "execution_count": 21,
      "outputs": [
        {
          "output_type": "execute_result",
          "data": {
            "text/plain": [
              "array([[ 52, 159],\n",
              "       [ 57, 157],\n",
              "       [ 57, 158],\n",
              "       ...,\n",
              "       [192,  23],\n",
              "       [193,  24],\n",
              "       [192,  25]], dtype=int32)"
            ]
          },
          "metadata": {},
          "execution_count": 21
        }
      ]
    },
    {
      "cell_type": "code",
      "source": [
        "for i in range(0, len(contours), 500):\n",
        "    print(contours)"
      ],
      "metadata": {
        "colab": {
          "base_uri": "https://localhost:8080/"
        },
        "id": "xbHZ6pOz4p-6",
        "outputId": "9f6dee50-e2c9-4a1c-ad17-8769ab14d145"
      },
      "execution_count": 18,
      "outputs": [
        {
          "output_type": "stream",
          "name": "stdout",
          "text": [
            "[[ 52 159]\n",
            " [ 57 157]\n",
            " [ 57 158]\n",
            " ...\n",
            " [192  23]\n",
            " [193  24]\n",
            " [192  25]]\n",
            "[[ 52 159]\n",
            " [ 57 157]\n",
            " [ 57 158]\n",
            " ...\n",
            " [192  23]\n",
            " [193  24]\n",
            " [192  25]]\n",
            "[[ 52 159]\n",
            " [ 57 157]\n",
            " [ 57 158]\n",
            " ...\n",
            " [192  23]\n",
            " [193  24]\n",
            " [192  25]]\n",
            "[[ 52 159]\n",
            " [ 57 157]\n",
            " [ 57 158]\n",
            " ...\n",
            " [192  23]\n",
            " [193  24]\n",
            " [192  25]]\n",
            "[[ 52 159]\n",
            " [ 57 157]\n",
            " [ 57 158]\n",
            " ...\n",
            " [192  23]\n",
            " [193  24]\n",
            " [192  25]]\n",
            "[[ 52 159]\n",
            " [ 57 157]\n",
            " [ 57 158]\n",
            " ...\n",
            " [192  23]\n",
            " [193  24]\n",
            " [192  25]]\n",
            "[[ 52 159]\n",
            " [ 57 157]\n",
            " [ 57 158]\n",
            " ...\n",
            " [192  23]\n",
            " [193  24]\n",
            " [192  25]]\n"
          ]
        }
      ]
    }
  ],
  "metadata": {
    "colab": {
      "collapsed_sections": [],
      "name": "Welcome To Colaboratory",
      "provenance": [],
      "include_colab_link": true
    },
    "kernelspec": {
      "display_name": "Python 3",
      "name": "python3"
    }
  },
  "nbformat": 4,
  "nbformat_minor": 0
}